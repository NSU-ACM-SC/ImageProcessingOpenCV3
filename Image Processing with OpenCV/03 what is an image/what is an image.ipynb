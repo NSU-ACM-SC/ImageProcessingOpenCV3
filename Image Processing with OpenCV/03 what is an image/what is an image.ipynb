{
 "cells": [
  {
   "cell_type": "markdown",
   "metadata": {},
   "source": [
    "# ওপেনসিভি + পাইথনে ইমেজ প্রসেসিং\n",
    "## ইমেজ কি জিনিস? "
   ]
  },
  {
   "cell_type": "markdown",
   "metadata": {},
   "source": [
    "## ইমেজ কি আসলে?\n",
    "\n",
    "ইমেজ শব্দের আভিধানিক বাংলা হচ্ছে - বিম্ব / প্রতিবিম্ব। আরো সহজ ভাষায় বলা যায় -মানুষ চোখ দিয়ে যা কিছু দেখে তার সবই ইমেজ।  "
   ]
  },
  {
   "cell_type": "code",
   "execution_count": null,
   "metadata": {
    "collapsed": true
   },
   "outputs": [],
   "source": []
  }
 ],
 "metadata": {
  "kernelspec": {
   "display_name": "Python [conda root]",
   "language": "python",
   "name": "conda-root-py"
  },
  "language_info": {
   "codemirror_mode": {
    "name": "ipython",
    "version": 3
   },
   "file_extension": ".py",
   "mimetype": "text/x-python",
   "name": "python",
   "nbconvert_exporter": "python",
   "pygments_lexer": "ipython3",
   "version": "3.5.3"
  }
 },
 "nbformat": 4,
 "nbformat_minor": 2
}
